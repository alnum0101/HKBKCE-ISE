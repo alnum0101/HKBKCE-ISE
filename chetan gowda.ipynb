{
 "cells": [
  {
   "cell_type": "code",
   "execution_count": 2,
   "metadata": {},
   "outputs": [
    {
     "name": "stdout",
     "output_type": "stream",
     "text": [
      "Enter the Name of the student: chethan gowda p\n",
      "Enter the USN of the student: 1HK22IS007\n",
      "Enter the mark in first subject: 80\n",
      "Enter the mark in second subject: 90\n",
      "Enter the mark in third subject: 80\n",
      "\n",
      "Name of the Student:  chethan gowda p\n",
      "USN:  1HK22IS007\n",
      "Mark in Subject 1:  80\n",
      "Mark in Subject 2:  90\n",
      "Mark in Subject 3:  80\n",
      "Total Score =  250\n",
      "Percentage =  83\n",
      "First Class with Distinction.\n"
     ]
    }
   ],
   "source": [
    "studentname = input('Enter the Name of the student: ')\n",
    "usn = input('Enter the USN of the student: ')\n",
    "m1 = int(input('Enter the mark in first subject: '))\n",
    "m2 = int(input('Enter the mark in second subject: '))\n",
    "m3 = int(input('Enter the mark in third subject: '))\n",
    "total = m1+m2+m3\n",
    "percentage = round((total/300)*100)\n",
    "print('\\nName of the Student: ', studentname)\n",
    "print('USN: ', usn)\n",
    "print('Mark in Subject 1: ', m1)\n",
    "print('Mark in Subject 2: ', m2)\n",
    "print('Mark in Subject 3: ', m3)\n",
    "print('Total Score = ', total)\n",
    "print('Percentage = ', percentage)\n",
    "if percentage >=90:\n",
    "    print('First Class Exemplary.')\n",
    "elif percentage >=75 and percentage <90:\n",
    "    print('First Class with Distinction.')\n",
    "elif percentage >=60 and percentage <75:\n",
    "    print('First Class.')\n",
    "elif percentage >=35 and percentage <60:\n",
    "    print('Second Class.')\n",
    "else:\n",
    "    print('Fail.')"
   ]
  },
  {
   "cell_type": "code",
   "execution_count": 1,
   "metadata": {},
   "outputs": [
    {
     "name": "stdout",
     "output_type": "stream",
     "text": [
      "Enter the Name of the person: chethangowda p\n",
      "Enter the Year of Birth: 2004\n",
      "\n",
      "Name of the person:  chethangowda p\n",
      "Year of Birth of the person:  2004\n",
      "Age of the person:  19\n",
      "The person is not a Senior Citizen.\n"
     ]
    }
   ],
   "source": [
    "personname = input('Enter the Name of the person: ')\n",
    "yearofbirth = int(input('Enter the Year of Birth: '))\n",
    "currentyear = 2023\n",
    "age = currentyear - yearofbirth\n",
    "print('\\nName of the person: ', personname)\n",
    "print('Year of Birth of the person: ', yearofbirth)\n",
    "print('Age of the person: ', age)\n",
    "if age >= 60:\n",
    "    print('The person is a Senior Citizen.')\n",
    "else:\n",
    "    print('The person is not a Senior Citizen.')"
   ]
  },
  {
   "cell_type": "code",
   "execution_count": 6,
   "metadata": {},
   "outputs": [
    {
     "name": "stdout",
     "output_type": "stream",
     "text": [
      "Enter the Length of required Fibonacci Sequence: 10\n",
      "Fibonacci Sequence for N = 10 is: \n",
      "0\n",
      "1\n",
      "1\n",
      "2\n",
      "3\n",
      "5\n",
      "8\n",
      "13\n",
      "21\n",
      "34\n"
     ]
    }
   ],
   "source": [
    "f0 = 0\n",
    "f1 = 1\n",
    "N = int(input('Enter the Length of required Fibonacci Sequence: '))\n",
    "if N<=0:\n",
    "    print('Enter Positive Integer value: ')\n",
    "else:\n",
    "    i=0\n",
    "    print('Fibonacci Sequence for N = '+ str(N) + ' is: ')\n",
    "    while i<N:\n",
    "        print(f0)\n",
    "        fth = f0 + f1\n",
    "        f0 = f1\n",
    "        f1 = fth\n",
    "        i += 1"
   ]
  },
  {
   "cell_type": "code",
   "execution_count": 33,
   "metadata": {},
   "outputs": [
    {
     "name": "stdout",
     "output_type": "stream",
     "text": [
      "Enter the Number to find factorial: 3\n",
      "The Factorial of 3 is  6\n"
     ]
    }
   ],
   "source": [
    "def factorial(N):\n",
    "    if N<0:\n",
    "        print('Enter the positive integer')\n",
    "    elif N==0:\n",
    "        print('The Factorial of 0 is 1')\n",
    "    elif N==1:\n",
    "        print('The Factorial of 1 is 1')\n",
    "    else:\n",
    "        i=1\n",
    "        f1=1\n",
    "    while i<=N:\n",
    "        fth=f1*i\n",
    "        f1=fth\n",
    "        i+=1\n",
    "    return fth\n",
    "N=int(input('Enter the Number to find factorial: '))\n",
    "fact = factorial(N)\n",
    "print('The Factorial of ' +str(N)+ ' is ', fact)"
   ]
  },
  {
   "cell_type": "code",
   "execution_count": 10,
   "metadata": {},
   "outputs": [
    {
     "name": "stdout",
     "output_type": "stream",
     "text": [
      "Enter the value of N: 7\n",
      "Enter the value of R 5\n",
      "The Binomial coefficient for N= 7 and R= 5 is 21.0\n"
     ]
    }
   ],
   "source": [
    "def factorial(N):\n",
    "    if N<0:\n",
    "        print('Enter the positive integer')\n",
    "    elif N==0:\n",
    "        print('The Factorial of 0 is 1')\n",
    "    elif N==1:\n",
    "        print('The Factorial of 1 is 1')\n",
    "    else:\n",
    "        i=1\n",
    "        f1=1\n",
    "    while i<=N:\n",
    "        fth=f1*i\n",
    "        f1=fth\n",
    "        i+=1\n",
    "    return fth\n",
    "N=int(input('Enter the value of N: '))\n",
    "R=int(input('Enter the value of R '))\n",
    "factN = factorial(N)\n",
    "factR = factorial(R)\n",
    "binomial = factN / (factR*factorial(N-R))\n",
    "print('The Binomial coefficient for N= ' +str(N)+ ' and R= '+str(R)+ ' is', binomial)"
   ]
  },
  {
   "cell_type": "code",
   "execution_count": 11,
   "metadata": {},
   "outputs": [
    {
     "name": "stdout",
     "output_type": "stream",
     "text": [
      "Enter the number of elements: 5\n",
      "Enter the element: 10\n",
      "\n",
      "Mean is  2.0\n",
      "Enter the element: 20\n",
      "\n",
      "Mean is  6.0\n",
      "Enter the element: 30\n",
      "\n",
      "Mean is  12.0\n",
      "Enter the element: 40\n",
      "\n",
      "Mean is  20.0\n",
      "Enter the element: 50\n",
      "\n",
      "Mean is  30.0\n",
      "Variance is  80.0\n",
      "Standard deviation is  8.94\n",
      "Variance is  100.0\n",
      "Standard deviation is  10.0\n",
      "Variance is  100.0\n",
      "Standard deviation is  10.0\n",
      "Variance is  120.0\n",
      "Standard deviation is  10.95\n",
      "Variance is  200.0\n",
      "Standard deviation is  14.14\n",
      "High Dispersion, Low Reliability.\n"
     ]
    }
   ],
   "source": [
    "N=int(input('Enter the number of elements: '))\n",
    "lis=[]\n",
    "for i in range(N):\n",
    "    lis.append(int(input('Enter the element: ')))\n",
    "    mean = round(sum(lis)/N,2)\n",
    "    print('\\nMean is ',mean)\n",
    "    lis_mean=[]\n",
    "for i in range(N):\n",
    "    lis_mean.append((lis[i] - mean)**2)\n",
    "    variance = round(sum(lis_mean)/N,2)\n",
    "    print('Variance is ', variance)\n",
    "    SD=round(variance**(1/2),2)\n",
    "    print('Standard deviation is ', SD)\n",
    "if SD>=1.5:\n",
    "    print('High Dispersion, Low Reliability.')\n",
    "else:\n",
    "    print('Low Dispersion, Reliable.')"
   ]
  },
  {
   "cell_type": "code",
   "execution_count": 1,
   "metadata": {},
   "outputs": [
    {
     "name": "stdout",
     "output_type": "stream",
     "text": [
      "Enter your input: Read a multi-digit number (as chars) from the\n",
      "Frequency of words appeared in the Sentence or paragraph\n",
      "\n",
      "{' ': 7,\n",
      " '(': 1,\n",
      " ')': 1,\n",
      " '-': 1,\n",
      " 'R': 1,\n",
      " 'a': 4,\n",
      " 'b': 1,\n",
      " 'c': 1,\n",
      " 'd': 2,\n",
      " 'e': 3,\n",
      " 'f': 1,\n",
      " 'g': 1,\n",
      " 'h': 2,\n",
      " 'i': 3,\n",
      " 'l': 1,\n",
      " 'm': 3,\n",
      " 'n': 1,\n",
      " 'o': 1,\n",
      " 'r': 3,\n",
      " 's': 2,\n",
      " 't': 3,\n",
      " 'u': 2}\n",
      "\n",
      "Character 'R' appeared 1 times\n",
      "Character 'e' appeared 3 times\n",
      "Character 'a' appeared 4 times\n",
      "Character 'd' appeared 2 times\n",
      "Character ' ' appeared 7 times\n",
      "Character 'm' appeared 3 times\n",
      "Character 'u' appeared 2 times\n",
      "Character 'l' appeared 1 times\n",
      "Character 't' appeared 3 times\n",
      "Character 'i' appeared 3 times\n",
      "Character '-' appeared 1 times\n",
      "Character 'g' appeared 1 times\n",
      "Character 'n' appeared 1 times\n",
      "Character 'b' appeared 1 times\n",
      "Character 'r' appeared 3 times\n",
      "Character '(' appeared 1 times\n",
      "Character 's' appeared 2 times\n",
      "Character 'c' appeared 1 times\n",
      "Character 'h' appeared 2 times\n",
      "Character ')' appeared 1 times\n",
      "Character 'f' appeared 1 times\n",
      "Character 'o' appeared 1 times\n"
     ]
    }
   ],
   "source": [
    "import pprint\n",
    "message = input('Enter your input: ')\n",
    "count = {}\n",
    "for character in message:\n",
    "    count.setdefault(character, 0)\n",
    "    count[character] = count[character] + 1\n",
    "print('Frequency of words appeared in the Sentence or paragraph\\n')\n",
    "pprint.pprint(count)\n",
    "print()\n",
    "for k,v in count.items():\n",
    "    print('Character \\''+str(k)+'\\' appeared ' + str(v)+ ' times')"
   ]
  },
  {
   "cell_type": "code",
   "execution_count": 27,
   "metadata": {},
   "outputs": [
    {
     "name": "stdout",
     "output_type": "stream",
     "text": [
      "The content in the file is: \n",
      " hi this is my first text for the day\n",
      "\n",
      "Frequency of words appeared in the Sentence or paragraph\n",
      "\n",
      "{'day': 1,\n",
      " 'first': 1,\n",
      " 'for': 1,\n",
      " 'hi': 1,\n",
      " 'is': 1,\n",
      " 'my': 1,\n",
      " 'text': 1,\n",
      " 'the': 1,\n",
      " 'this': 1}\n",
      "\n",
      "\n",
      "Sorted in descending order:\n",
      "\n",
      " {'hi': 1, 'this': 1, 'is': 1, 'my': 1, 'first': 1, 'text': 1, 'for': 1, 'the': 1, 'day': 1}\n",
      "\n",
      "Ten Most frequently appeared word in a paragraph :\n",
      "\n",
      " {'hi': 1, 'this': 1, 'is': 1, 'my': 1, 'first': 1, 'text': 1, 'for': 1, 'the': 1, 'day': 1}\n"
     ]
    }
   ],
   "source": [
    "import pprint\n",
    "message1 =open(r\"C:\\Users\\Admin\\Desktop\\Lab_ISE\\treveor.txt\")\n",
    "message = message1.read()\n",
    "message1.close()\n",
    "print('The content in the file is: \\n', message)\n",
    "count = {}\n",
    "for character in message.split():\n",
    "    count.setdefault(character, 0)\n",
    "    count[character] = count[character] + 1\n",
    "print('\\nFrequency of words appeared in the Sentence or paragraph\\n')\n",
    "pprint.pprint(count)\n",
    "print()\n",
    "sortedcount = sorted(count.items(), key=lambda x:x[1], reverse=True)\n",
    "converttodict = dict(sortedcount)\n",
    "print('\\nSorted in descending order:\\n\\n',converttodict)\n",
    "import itertools\n",
    "sliceddict = dict(itertools.islice(converttodict.items(), 10))\n",
    "print('\\nTen Most frequently appeared word in a paragraph :\\n\\n',sliceddict)\n"
   ]
  },
  {
   "cell_type": "code",
   "execution_count": 26,
   "metadata": {},
   "outputs": [
    {
     "name": "stdout",
     "output_type": "stream",
     "text": [
      "\n",
      "\n",
      " content available of the file is:\n",
      "\n",
      " ['hi this is my first text for the day']\n",
      "\n",
      "\n",
      " Sorted content is :\n",
      "\n",
      " ['hi this is my first text for the day']\n"
     ]
    }
   ],
   "source": [
    "namelist=open(r'C:\\Users\\Admin\\Desktop\\Lab_ISE\\treveor.txt')\n",
    "namelist1=namelist.readlines()\n",
    "namelist.close()\n",
    "print('\\n\\n content available of the file is:\\n\\n',namelist1)\n",
    "namelist1.sort()\n",
    "sortedlist2=open(r'C:\\Users\\Admin\\Desktop\\Lab_ISE\\treveor.txt','w')\n",
    "sortedlist2.writelines(namelist1)\n",
    "sortedlist2.close()\n",
    "print('\\n\\n Sorted content is :\\n\\n',namelist1)"
   ]
  },
  {
   "cell_type": "code",
   "execution_count": 2,
   "metadata": {},
   "outputs": [
    {
     "name": "stdout",
     "output_type": "stream",
     "text": [
      "Enter name: chethan\n",
      "Enter USN: 22HKBKISE030\n",
      "Enter marks for subject 1: 60\n",
      "Enter marks for subject 2: 50\n",
      "Enter marks for subject 3: 90\n",
      "Name: chethan\n",
      "USN: 22HKBKISE030\n",
      "Marks:\n",
      "\tSubject 1: 60.0\n",
      "\tSubject 2: 50.0\n",
      "\tSubject 3: 90.0\n",
      "Total: 200.0\n",
      "Percentage: 66.67\n"
     ]
    }
   ],
   "source": [
    "class Student:\n",
    "    def __init__(self, name, usn):\n",
    "        self.name = name\n",
    "        self.usn = usn\n",
    "        self.marks = []\n",
    "        self.total = 0\n",
    "    def getMarks(self):\n",
    "        for i in range(3):\n",
    "            marks = float(input(f\"Enter marks for subject {i+1}: \"))\n",
    "            self.marks.append(marks)\n",
    "            self.total += marks\n",
    "    def display(self):\n",
    "        print(\"Name:\", self.name)\n",
    "        print(\"USN:\", self.usn)\n",
    "        print(\"Marks:\")\n",
    "        for i in range(3):\n",
    "            print(f\"\\tSubject {i+1}: {self.marks[i]}\")\n",
    "        print(\"Total:\", self.total)\n",
    "        print(\"Percentage:\", round((self.total / 3),2))\n",
    "# Main program\n",
    "name = input(\"Enter name: \")\n",
    "usn = input(\"Enter USN: \")\n",
    "student = Student(name, usn)\n",
    "student.getMarks()\n",
    "student.display()"
   ]
  },
  {
   "cell_type": "code",
   "execution_count": 12,
   "metadata": {},
   "outputs": [
    {
     "name": "stdout",
     "output_type": "stream",
     "text": [
      "Enter the number of complex numbers: 2\n",
      "Enter complex number 1: 1 2 \n",
      "Enter complex number 2: 1 2\n",
      "Sum of the complex numbers is: 2.0+4.0i\n"
     ]
    }
   ],
   "source": [
    "class Complex:\n",
    "    def __init__(self, real, imag):\n",
    "        self.real = real\n",
    "        self.imag = imag\n",
    "    \n",
    "    def __add__(self, other):\n",
    "        return Complex(self.real + other.real, self.imag + other.imag)\n",
    "    \n",
    "    def __str__(self):\n",
    "        if self.imag >= 0:\n",
    "            return f\"{self.real}+{self.imag}i\"\n",
    "        else:\n",
    "            return f\"{self.real}{self.imag}i\"\n",
    "    \n",
    "    def add_complex_numbers(self, other):\n",
    "        return self + other\n",
    "\n",
    "n = int(input(\"Enter the number of complex numbers: \"))\n",
    "complex_numbers = []\n",
    "for i in range(n):\n",
    "    real, imag = input(f\"Enter complex number {i+1}: \").split()\n",
    "    complex_numbers.append(Complex(float(real), float(imag)))\n",
    "\n",
    "result = complex_numbers[0]\n",
    "for i in range(1, n):\n",
    "    result = result.add_complex_numbers(complex_numbers[i])\n",
    "\n",
    "print(\"Sum of the complex numbers is:\", result)"
   ]
  },
  {
   "cell_type": "code",
   "execution_count": 14,
   "metadata": {},
   "outputs": [
    {
     "name": "stdout",
     "output_type": "stream",
     "text": [
      "Enter a value for a: 3\n",
      "Enter a value for b: 0\n",
      "Error: b can't be zero\n"
     ]
    }
   ],
   "source": [
    "def DivExp(a, b):\n",
    "    assert a > 0, \"a should be greater than 0\"\n",
    "    if b == 0:\n",
    "         raise Exception(\"b can't be zero\")\n",
    "         c = a / b\n",
    "    return c\n",
    "a = float(input(\"Enter a value for a: \"))\n",
    "b = float(input(\"Enter a value for b: \"))\n",
    "try:\n",
    "    result = DivExp(a, b)\n",
    "except Exception as e:\n",
    "    print(\"Error: %s\"%e)\n",
    "else:\n",
    "    print(\"The result of %s/%s is %s\" %(a,b,result))"
   ]
  },
  {
   "cell_type": "code",
   "execution_count": 32,
   "metadata": {},
   "outputs": [
    {
     "name": "stdout",
     "output_type": "stream",
     "text": [
      "Creating Lab_ISE_1.zip...\n",
      "Adding files in C:\\Users\\Admin\\Desktop\\Lab_ISE...\n",
      "Adding files in C:\\Users\\Admin\\Desktop\\Lab_ISE\\.ipynb_checkpoints...\n",
      "Done.\n"
     ]
    }
   ],
   "source": [
    "import zipfile, os\n",
    "\n",
    "def backupToZip(directory):\n",
    "    folder = os.path.abspath(directory)\n",
    "    number = 1\n",
    "    while True:\n",
    "        zipFilename = os.path.basename(directory) + '_' + str(number) + '.zip'\n",
    "        if not os.path.exists(zipFilename):\n",
    "            break\n",
    "        number = number + 1\n",
    "    print('Creating %s...' % (zipFilename))\n",
    "    backupZip = zipfile.ZipFile(zipFilename, 'w')\n",
    "    for foldername, subfolders, filenames in os.walk(folder):\n",
    "        print('Adding files in %s...' % (foldername))\n",
    "        backupZip.write(foldername)\n",
    "    for filename in filenames:\n",
    "        newBase = os.path.basename(directory)\n",
    "        if filename.startswith(newBase) and filename.endswith('.zip'):\n",
    "            continue\n",
    "        backupZip.write(os.path.join(foldername, filename))\n",
    "    backupZip.close()\n",
    "    print('Done.')\n",
    "\n",
    "# Main Program\n",
    "backupToZip(r\"C:\\Users\\Admin\\Desktop\\Lab_ISE\")\n"
   ]
  },
  {
   "cell_type": "code",
   "execution_count": null,
   "metadata": {},
   "outputs": [],
   "source": []
  }
 ],
 "metadata": {
  "kernelspec": {
   "display_name": "Python 3",
   "language": "python",
   "name": "python3"
  },
  "language_info": {
   "codemirror_mode": {
    "name": "ipython",
    "version": 3
   },
   "file_extension": ".py",
   "mimetype": "text/x-python",
   "name": "python",
   "nbconvert_exporter": "python",
   "pygments_lexer": "ipython3",
   "version": "3.7.3"
  }
 },
 "nbformat": 4,
 "nbformat_minor": 2
}
